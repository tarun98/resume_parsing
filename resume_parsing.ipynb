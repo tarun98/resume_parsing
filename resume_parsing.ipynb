{
 "cells": [
  {
   "cell_type": "code",
   "execution_count": 25,
   "metadata": {},
   "outputs": [
    {
     "name": "stdout",
     "output_type": "stream",
     "text": [
      "PLAIN TEXT\n",
      "\n",
      "\n",
      "\n",
      "\n",
      "\n",
      "\n",
      "\n",
      "\n",
      "abc@gmail.com\n",
      "hftpohpf@yahoo.com\n",
      "\n",
      "Address:\n",
      "H.no:3-5-67/2,\n",
      "Pbbroad , ipsum loren nagar ,\n",
      "Hyderabad-500029.\n",
      "\n",
      "\n",
      "address:\n",
      " street no:2, asgrdgrd,\n",
      "Hyderabad-500029.\n",
      "+919999999999\n",
      "xyzzy@asd.tk\n",
      "bleh@gmail.com\n",
      "\n",
      "\n",
      "Address:\n",
      "H.no:3-5-67/2,\n",
      "PRIU Road ,Himayath nagar ,\n",
      "Hyderabad-500029\n",
      "Number2:+918989897654\n",
      "Phone: +918778342312\n",
      "blah balha bkabsjfnasdsjfn\n",
      "+919900990099\n",
      "ytyt@yahoo.com\n",
      "\n"
     ]
    }
   ],
   "source": [
    "import tika\n",
    "from tika import parser\n",
    "import re\n",
    "class ResumeParsing:\n",
    "    def parseAnyFile():\n",
    "        tika.initVM()\n",
    "        parsed = parser.from_file(\"aaaa.docx\")\n",
    "        print(\"PLAIN TEXT\")\n",
    "        print(parsed[\"content\"])\n",
    "    \n",
    "    if __name__==\"__main__\":\n",
    "        \n",
    "        parseAnyFile()\n",
    "        \n",
    "       "
   ]
  },
  {
   "cell_type": "code",
   "execution_count": 26,
   "metadata": {},
   "outputs": [
    {
     "name": "stdout",
     "output_type": "stream",
     "text": [
      "EMAIL IDs\n",
      "['abc@gmail.com', 'hftpohpf@yahoo.com', 'xyzzy@asd.tk', 'bleh@gmail.com', 'ytyt@yahoo.com']\n",
      "\n",
      "\n",
      "ADDRESSES\n",
      ":\n",
      " \n",
      "H.no:3-5-67/2, Pbbroad , ipsum loren nagar , Hyderabad-50002\n",
      ":\n",
      "  \n",
      "street no:2, asgrdgrd, Hyderabad-50002\n",
      ":\n",
      " \n",
      "H.no:3-5-67/2, PRIU Road ,Himayath nagar , Hyderabad-50002\n",
      "\n",
      "\n",
      "MOBILE NUMBERS\n",
      "['+919999999999', '+918989897654', '+918778342312', '+919900990099']\n"
     ]
    }
   ],
   "source": [
    "import tika\n",
    "from tika import parser\n",
    "import re\n",
    "class ResumeParsing:\n",
    "    \n",
    "    def getemail():\n",
    "        tika.initVM()\n",
    "        parsed = parser.from_file(\"aaaa.docx\")\n",
    "        regular_expression = re.compile(r\"[A-Z0-9._%+-]+@[A-Z0-9.-]+\\.[A-Z]{2,4}\", re.IGNORECASE)\n",
    "        result = re.findall(regular_expression,parsed[\"content\"])\n",
    "        print(result)\n",
    "    def getaddress():\n",
    "        tika.initVM()\n",
    "        parsed = parser.from_file(\"aaaa.docx\")\n",
    "        address = re.compile(r\"(?is)(?<=Address)([:]?)([\\s]*)(.*?)[0-9][.]?\\n\")\n",
    "        adresult=re.findall(address,parsed[\"content\"])      \n",
    "        adresult\n",
    "        adresult=list(adresult)\n",
    "        for i in adresult:\n",
    "            j=list(i)\n",
    "            for k in j:\n",
    "                (print(k.replace(\"\\n\",\" \")))\n",
    "    def getmobno():\n",
    "        tika.initVM()\n",
    "        parsed = parser.from_file(\"aaaa.docx\")\n",
    "        reg_mob=re.compile(r\"[+]+[9]+[1]+[0-9]{10}\")\n",
    "        numres=re.findall(reg_mob,parsed[\"content\"])\n",
    "        print(numres)\n",
    "    if __name__==\"__main__\":\n",
    "        \n",
    "        print(\"EMAIL IDs\")\n",
    "        getemail()\n",
    "        print(\"\\n\\nADDRESSES\")\n",
    "        getaddress()\n",
    "        print(\"\\n\\nMOBILE NUMBERS\")\n",
    "        getmobno()"
   ]
  },
  {
   "cell_type": "code",
   "execution_count": 27,
   "metadata": {},
   "outputs": [
    {
     "name": "stdout",
     "output_type": "stream",
     "text": [
      "bleh\n"
     ]
    }
   ],
   "source": [
    "print(\"bleh\")\n"
   ]
  },
  {
   "cell_type": "code",
   "execution_count": null,
   "metadata": {
    "collapsed": true
   },
   "outputs": [],
   "source": []
  }
 ],
 "metadata": {
  "kernelspec": {
   "display_name": "Python 3",
   "language": "python",
   "name": "python3"
  },
  "language_info": {
   "codemirror_mode": {
    "name": "ipython",
    "version": 3
   },
   "file_extension": ".py",
   "mimetype": "text/x-python",
   "name": "python",
   "nbconvert_exporter": "python",
   "pygments_lexer": "ipython3",
   "version": "3.6.1"
  }
 },
 "nbformat": 4,
 "nbformat_minor": 2
}
